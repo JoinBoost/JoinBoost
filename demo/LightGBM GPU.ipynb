{
 "cells": [
  {
   "cell_type": "code",
   "execution_count": 1,
   "metadata": {
    "colab": {
     "base_uri": "https://localhost:8080/"
    },
    "id": "Rm5Q6iNfZ8GD",
    "outputId": "119ad5bb-e555-4272-906b-fca6bab6c839"
   },
   "outputs": [
    {
     "name": "stderr",
     "output_type": "stream",
     "text": [
      "UsageError: Line magic function `%` not found.\n"
     ]
    }
   ],
   "source": [
    "! pip install pandas duckdb lightgbm"
   ]
  },
  {
   "cell_type": "code",
   "execution_count": null,
   "metadata": {
    "colab": {
     "base_uri": "https://localhost:8080/"
    },
    "id": "_nguVMFva-cL",
    "outputId": "358aa238-0b9e-493c-ed6c-7f0d15ac2a68"
   },
   "outputs": [],
   "source": [
    "import pandas as pd\n",
    "import lightgbm as lgb\n",
    "train = pd.read_csv(\"/kaggle/input/favorita/train.csv\", nrows=1000000)\n",
    "len(train)"
   ]
  },
  {
   "cell_type": "code",
   "execution_count": null,
   "metadata": {
    "colab": {
     "base_uri": "https://localhost:8080/"
    },
    "id": "HyyOIFqvMJZO",
    "outputId": "02276fe3-d79a-4a6e-c30a-d4d8437a31ce"
   },
   "outputs": [],
   "source": [
    "X = ['onpromotion', 'htype', 'locale', 'locale_name', 'transferred',\n",
    "       'f2', 'date', 'dcoilwtico', 'f3', 'tid', 'transactions', 'f5',\n",
    "       'store_nbr', 'city', 'state', 'stype', 'cluster', 'f4', 'item_nbr',\n",
    "       'family', 'class', 'perishable', 'f1', 'unit_sales']\n",
    "y = \"Y\"\n",
    "X_train = train[X]\n",
    "y_train = train[y]\n",
    "\n",
    "lgb_train = lgb.Dataset(X_train, y_train)\n",
    "\n",
    "params = {\n",
    "    'boosting': 'gbdt',\n",
    "    'objective': 'regression',\n",
    "    'num_leaves': 16,\n",
    "    'max_bin': 1023,\n",
    "#     \"num_threads\":16,\n",
    "    \"device\": 'gpu', # We should prefer to use CUDA\n",
    "    'gpu_platform_id': 0,\n",
    "    'gpu_device_id': 0\n",
    "}\n",
    "\n",
    "gbm = lgb.train(params,\n",
    "                lgb_train,\n",
    "                num_boost_round=100)\n"
   ]
  },
  {
   "cell_type": "code",
   "execution_count": null,
   "metadata": {
    "colab": {
     "base_uri": "https://localhost:8080/"
    },
    "id": "k00kwUJxN-7Q",
    "outputId": "5619202e-ee9e-4be2-f6e3-29bca57e39c2"
   },
   "outputs": [],
   "source": []
  }
 ],
 "metadata": {
  "colab": {
   "collapsed_sections": [],
   "provenance": []
  },
  "kernelspec": {
   "display_name": "Python 3 (ipykernel)",
   "language": "python",
   "name": "python3"
  },
  "language_info": {
   "codemirror_mode": {
    "name": "ipython",
    "version": 3
   },
   "file_extension": ".py",
   "mimetype": "text/x-python",
   "name": "python",
   "nbconvert_exporter": "python",
   "pygments_lexer": "ipython3",
   "version": "3.10.9"
  }
 },
 "nbformat": 4,
 "nbformat_minor": 1
}
