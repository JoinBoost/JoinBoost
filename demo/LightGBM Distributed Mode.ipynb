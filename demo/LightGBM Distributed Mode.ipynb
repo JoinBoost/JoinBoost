{
 "cells": [
  {
   "cell_type": "code",
   "execution_count": 1,
   "metadata": {
    "colab": {
     "base_uri": "https://localhost:8080/"
    },
    "id": "Rm5Q6iNfZ8GD",
    "outputId": "119ad5bb-e555-4272-906b-fca6bab6c839"
   },
   "outputs": [
    {
     "name": "stdout",
     "output_type": "stream",
     "text": [
      "Defaulting to user installation because normal site-packages is not writeable\n",
      "Requirement already satisfied: pandas in /usr/lib/python3.10/site-packages (1.5.1)\n",
      "Requirement already satisfied: duckdb in /usr/lib/python3.10/site-packages (0.5.1)\n",
      "Requirement already satisfied: lightgbm in /home/pavan/.local/lib/python3.10/site-packages (3.3.5)\n",
      "Requirement already satisfied: dask in /home/pavan/.local/lib/python3.10/site-packages (2023.1.1)\n",
      "Requirement already satisfied: distributed in /home/pavan/.local/lib/python3.10/site-packages (2023.1.1)\n",
      "Requirement already satisfied: pytz>=2020.1 in /usr/lib/python3.10/site-packages (from pandas) (2022.7)\n",
      "Requirement already satisfied: python-dateutil>=2.8.1 in /usr/lib/python3.10/site-packages (from pandas) (2.8.2)\n",
      "Requirement already satisfied: numpy>=1.21.0 in /usr/lib/python3.10/site-packages (from pandas) (1.23.4)\n",
      "Requirement already satisfied: scikit-learn!=0.22.0 in /home/pavan/.local/lib/python3.10/site-packages (from lightgbm) (1.2.1)\n",
      "Requirement already satisfied: wheel in /usr/lib/python3.10/site-packages (from lightgbm) (0.38.4)\n",
      "Requirement already satisfied: scipy in /home/pavan/.local/lib/python3.10/site-packages (from lightgbm) (1.10.0)\n",
      "Requirement already satisfied: toolz>=0.8.2 in /home/pavan/.local/lib/python3.10/site-packages (from dask) (0.12.0)\n",
      "Requirement already satisfied: pyyaml>=5.3.1 in /usr/lib/python3.10/site-packages (from dask) (6.0)\n",
      "Requirement already satisfied: click>=7.0 in /usr/lib/python3.10/site-packages (from dask) (8.1.3)\n",
      "Requirement already satisfied: packaging>=20.0 in /usr/lib/python3.10/site-packages (from dask) (23.0)\n",
      "Requirement already satisfied: partd>=0.3.10 in /home/pavan/.local/lib/python3.10/site-packages (from dask) (1.3.0)\n",
      "Requirement already satisfied: cloudpickle>=1.1.1 in /home/pavan/.local/lib/python3.10/site-packages (from dask) (2.2.1)\n",
      "Requirement already satisfied: fsspec>=0.6.0 in /home/pavan/.local/lib/python3.10/site-packages (from dask) (2023.1.0)\n",
      "Requirement already satisfied: psutil>=5.7.0 in /usr/lib/python3.10/site-packages (from distributed) (5.9.4)\n",
      "Requirement already satisfied: tornado>=6.0.3 in /usr/lib/python3.10/site-packages (from distributed) (6.2)\n",
      "Requirement already satisfied: jinja2>=2.10.3 in /usr/lib/python3.10/site-packages (from distributed) (3.1.2)\n",
      "Requirement already satisfied: msgpack>=1.0.0 in /usr/lib/python3.10/site-packages (from distributed) (1.0.4)\n",
      "Requirement already satisfied: urllib3>=1.24.3 in /usr/lib/python3.10/site-packages (from distributed) (1.26.12)\n",
      "Requirement already satisfied: zict>=2.1.0 in /home/pavan/.local/lib/python3.10/site-packages (from distributed) (2.2.0)\n",
      "Requirement already satisfied: tblib>=1.6.0 in /home/pavan/.local/lib/python3.10/site-packages (from distributed) (1.7.0)\n",
      "Requirement already satisfied: sortedcontainers>=2.0.5 in /home/pavan/.local/lib/python3.10/site-packages (from distributed) (2.4.0)\n",
      "Requirement already satisfied: locket>=1.0.0 in /home/pavan/.local/lib/python3.10/site-packages (from distributed) (1.0.0)\n",
      "Requirement already satisfied: MarkupSafe>=2.0 in /usr/lib/python3.10/site-packages (from jinja2>=2.10.3->distributed) (2.1.2)\n",
      "Requirement already satisfied: six>=1.5 in /usr/lib/python3.10/site-packages (from python-dateutil>=2.8.1->pandas) (1.16.0)\n",
      "Requirement already satisfied: threadpoolctl>=2.0.0 in /home/pavan/.local/lib/python3.10/site-packages (from scikit-learn!=0.22.0->lightgbm) (3.1.0)\n",
      "Requirement already satisfied: joblib>=1.1.1 in /home/pavan/.local/lib/python3.10/site-packages (from scikit-learn!=0.22.0->lightgbm) (1.2.0)\n",
      "Requirement already satisfied: heapdict in /home/pavan/.local/lib/python3.10/site-packages (from zict>=2.1.0->distributed) (1.0.1)\n",
      "Note: you may need to restart the kernel to use updated packages.\n"
     ]
    }
   ],
   "source": [
    "%pip install pandas duckdb lightgbm dask distributed"
   ]
  },
  {
   "cell_type": "code",
   "execution_count": 2,
   "metadata": {},
   "outputs": [],
   "source": [
    "# Setting up Dask Cluster\n",
    "from distributed import Client, LocalCluster\n",
    "import lightgbm as lgb\n",
    "\n",
    "cluster = LocalCluster(n_workers=3)\n",
    "client = Client(cluster)\n",
    "\n",
    "# specific machine codes\n",
    "\n"
   ]
  },
  {
   "cell_type": "code",
   "execution_count": 3,
   "metadata": {
    "colab": {
     "base_uri": "https://localhost:8080/"
    },
    "id": "_nguVMFva-cL",
    "outputId": "358aa238-0b9e-493c-ed6c-7f0d15ac2a68"
   },
   "outputs": [
    {
     "data": {
      "text/html": [
       "<div>\n",
       "<style scoped>\n",
       "    .dataframe tbody tr th:only-of-type {\n",
       "        vertical-align: middle;\n",
       "    }\n",
       "\n",
       "    .dataframe tbody tr th {\n",
       "        vertical-align: top;\n",
       "    }\n",
       "\n",
       "    .dataframe thead th {\n",
       "        text-align: right;\n",
       "    }\n",
       "</style>\n",
       "<table border=\"1\" class=\"dataframe\">\n",
       "  <thead>\n",
       "    <tr style=\"text-align: right;\">\n",
       "      <th></th>\n",
       "      <th>Y</th>\n",
       "      <th>onpromotion</th>\n",
       "      <th>htype</th>\n",
       "      <th>locale</th>\n",
       "      <th>locale_name</th>\n",
       "      <th>transferred</th>\n",
       "      <th>f2</th>\n",
       "      <th>date</th>\n",
       "      <th>dcoilwtico</th>\n",
       "      <th>f3</th>\n",
       "      <th>...</th>\n",
       "      <th>state</th>\n",
       "      <th>stype</th>\n",
       "      <th>cluster</th>\n",
       "      <th>f4</th>\n",
       "      <th>item_nbr</th>\n",
       "      <th>family</th>\n",
       "      <th>class</th>\n",
       "      <th>perishable</th>\n",
       "      <th>f1</th>\n",
       "      <th>unit_sales</th>\n",
       "    </tr>\n",
       "  </thead>\n",
       "  <tbody>\n",
       "    <tr>\n",
       "      <th>0</th>\n",
       "      <td>-5739.103113</td>\n",
       "      <td>2</td>\n",
       "      <td>4</td>\n",
       "      <td>2</td>\n",
       "      <td>15</td>\n",
       "      <td>1</td>\n",
       "      <td>984</td>\n",
       "      <td>373</td>\n",
       "      <td>6</td>\n",
       "      <td>121</td>\n",
       "      <td>...</td>\n",
       "      <td>12</td>\n",
       "      <td>1</td>\n",
       "      <td>5</td>\n",
       "      <td>960</td>\n",
       "      <td>451</td>\n",
       "      <td>9</td>\n",
       "      <td>168</td>\n",
       "      <td>1</td>\n",
       "      <td>296</td>\n",
       "      <td>4.0</td>\n",
       "    </tr>\n",
       "    <tr>\n",
       "      <th>1</th>\n",
       "      <td>872.348519</td>\n",
       "      <td>0</td>\n",
       "      <td>4</td>\n",
       "      <td>2</td>\n",
       "      <td>15</td>\n",
       "      <td>1</td>\n",
       "      <td>618</td>\n",
       "      <td>1420</td>\n",
       "      <td>2</td>\n",
       "      <td>47</td>\n",
       "      <td>...</td>\n",
       "      <td>6</td>\n",
       "      <td>0</td>\n",
       "      <td>16</td>\n",
       "      <td>604</td>\n",
       "      <td>1476</td>\n",
       "      <td>3</td>\n",
       "      <td>72</td>\n",
       "      <td>0</td>\n",
       "      <td>232</td>\n",
       "      <td>3.0</td>\n",
       "    </tr>\n",
       "    <tr>\n",
       "      <th>2</th>\n",
       "      <td>-7674.674962</td>\n",
       "      <td>0</td>\n",
       "      <td>2</td>\n",
       "      <td>1</td>\n",
       "      <td>4</td>\n",
       "      <td>0</td>\n",
       "      <td>354</td>\n",
       "      <td>1421</td>\n",
       "      <td>2</td>\n",
       "      <td>738</td>\n",
       "      <td>...</td>\n",
       "      <td>12</td>\n",
       "      <td>0</td>\n",
       "      <td>13</td>\n",
       "      <td>282</td>\n",
       "      <td>2056</td>\n",
       "      <td>12</td>\n",
       "      <td>30</td>\n",
       "      <td>0</td>\n",
       "      <td>516</td>\n",
       "      <td>1.0</td>\n",
       "    </tr>\n",
       "    <tr>\n",
       "      <th>3</th>\n",
       "      <td>2542.109873</td>\n",
       "      <td>0</td>\n",
       "      <td>4</td>\n",
       "      <td>2</td>\n",
       "      <td>15</td>\n",
       "      <td>1</td>\n",
       "      <td>307</td>\n",
       "      <td>1669</td>\n",
       "      <td>3</td>\n",
       "      <td>49</td>\n",
       "      <td>...</td>\n",
       "      <td>12</td>\n",
       "      <td>0</td>\n",
       "      <td>4</td>\n",
       "      <td>413</td>\n",
       "      <td>4</td>\n",
       "      <td>5</td>\n",
       "      <td>183</td>\n",
       "      <td>1</td>\n",
       "      <td>538</td>\n",
       "      <td>14.0</td>\n",
       "    </tr>\n",
       "    <tr>\n",
       "      <th>4</th>\n",
       "      <td>-5824.012509</td>\n",
       "      <td>0</td>\n",
       "      <td>4</td>\n",
       "      <td>2</td>\n",
       "      <td>15</td>\n",
       "      <td>1</td>\n",
       "      <td>697</td>\n",
       "      <td>1177</td>\n",
       "      <td>0</td>\n",
       "      <td>12</td>\n",
       "      <td>...</td>\n",
       "      <td>10</td>\n",
       "      <td>2</td>\n",
       "      <td>2</td>\n",
       "      <td>955</td>\n",
       "      <td>1814</td>\n",
       "      <td>12</td>\n",
       "      <td>28</td>\n",
       "      <td>0</td>\n",
       "      <td>379</td>\n",
       "      <td>3.0</td>\n",
       "    </tr>\n",
       "  </tbody>\n",
       "</table>\n",
       "<p>5 rows × 25 columns</p>\n",
       "</div>"
      ],
      "text/plain": [
       "             Y  onpromotion  htype  locale  locale_name  transferred   f2  \\\n",
       "0 -5739.103113            2      4       2           15            1  984   \n",
       "1   872.348519            0      4       2           15            1  618   \n",
       "2 -7674.674962            0      2       1            4            0  354   \n",
       "3  2542.109873            0      4       2           15            1  307   \n",
       "4 -5824.012509            0      4       2           15            1  697   \n",
       "\n",
       "   date  dcoilwtico   f3  ...  state  stype  cluster   f4  item_nbr  family  \\\n",
       "0   373           6  121  ...     12      1        5  960       451       9   \n",
       "1  1420           2   47  ...      6      0       16  604      1476       3   \n",
       "2  1421           2  738  ...     12      0       13  282      2056      12   \n",
       "3  1669           3   49  ...     12      0        4  413         4       5   \n",
       "4  1177           0   12  ...     10      2        2  955      1814      12   \n",
       "\n",
       "   class  perishable   f1  unit_sales  \n",
       "0    168           1  296         4.0  \n",
       "1     72           0  232         3.0  \n",
       "2     30           0  516         1.0  \n",
       "3    183           1  538        14.0  \n",
       "4     28           0  379         3.0  \n",
       "\n",
       "[5 rows x 25 columns]"
      ]
     },
     "execution_count": 3,
     "metadata": {},
     "output_type": "execute_result"
    }
   ],
   "source": [
    "\n",
    "import dask.dataframe as dd\n",
    "import dask.array as da\n",
    "\n",
    "train = dd.read_csv(\"/home/pavan/Downloads/train.csv\", blocksize=25e6)\n",
    "train.head()"
   ]
  },
  {
   "cell_type": "code",
   "execution_count": null,
   "metadata": {},
   "outputs": [
    {
     "name": "stderr",
     "output_type": "stream",
     "text": [
      "/home/pavan/.local/lib/python3.10/site-packages/lightgbm/dask.py:526: UserWarning: Parameter n_jobs will be ignored.\n",
      "  _log_warning(f\"Parameter {param_alias} will be ignored.\")\n"
     ]
    },
    {
     "name": "stdout",
     "output_type": "stream",
     "text": [
      "Finding random open ports for workers\n"
     ]
    },
    {
     "name": "stderr",
     "output_type": "stream",
     "text": [
      "2023-02-09 08:24:52,423 - distributed.nanny.memory - WARNING - Worker tcp://127.0.0.1:46783 (pid=2581311) exceeded 95% memory budget. Restarting...\n",
      "2023-02-09 08:24:52,520 - distributed.nanny.memory - WARNING - Worker tcp://127.0.0.1:46783 (pid=2581311) is slow to accept SIGTERM; sending SIGKILL\n",
      "2023-02-09 08:24:53,516 - distributed.nanny - WARNING - Restarting worker\n"
     ]
    }
   ],
   "source": [
    "\n",
    "X = ['onpromotion', 'htype', 'locale', 'locale_name', 'transferred',\n",
    "       'f2', 'date', 'dcoilwtico', 'f3', 'tid', 'transactions', 'f5',\n",
    "       'store_nbr', 'city', 'state', 'stype', 'cluster', 'f4', 'item_nbr',\n",
    "       'family', 'class', 'perishable', 'f1', 'unit_sales']\n",
    "y = \"Y\"\n",
    "\n",
    "dX = train[X].to_dask_array(lengths=True)\n",
    "dy = train[y].to_dask_array(lengths=True)\n",
    "\n",
    "dask_model = lgb.DaskLGBMClassifier(client=client, objective='regression', n_estimators=10, num_leaves=16)\n",
    "dask_model.fit(dX, dy)"
   ]
  },
  {
   "cell_type": "code",
   "execution_count": null,
   "metadata": {
    "colab": {
     "base_uri": "https://localhost:8080/"
    },
    "id": "HyyOIFqvMJZO",
    "outputId": "02276fe3-d79a-4a6e-c30a-d4d8437a31ce"
   },
   "outputs": [],
   "source": []
  },
  {
   "cell_type": "code",
   "execution_count": null,
   "metadata": {
    "colab": {
     "base_uri": "https://localhost:8080/"
    },
    "id": "k00kwUJxN-7Q",
    "outputId": "5619202e-ee9e-4be2-f6e3-29bca57e39c2"
   },
   "outputs": [],
   "source": []
  }
 ],
 "metadata": {
  "colab": {
   "collapsed_sections": [],
   "provenance": []
  },
  "kernelspec": {
   "display_name": "Python 3 (ipykernel)",
   "language": "python",
   "name": "python3"
  },
  "language_info": {
   "codemirror_mode": {
    "name": "ipython",
    "version": 3
   },
   "file_extension": ".py",
   "mimetype": "text/x-python",
   "name": "python",
   "nbconvert_exporter": "python",
   "pygments_lexer": "ipython3",
   "version": "3.10.9"
  }
 },
 "nbformat": 4,
 "nbformat_minor": 1
}
