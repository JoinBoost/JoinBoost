{
 "cells": [
  {
   "cell_type": "code",
   "execution_count": null,
   "id": "064c0938",
   "metadata": {
    "tags": []
   },
   "outputs": [],
   "source": [
    "from joinboost_disk import *"
   ]
  },
  {
   "cell_type": "code",
   "execution_count": null,
   "id": "4fabc984",
   "metadata": {
    "tags": []
   },
   "outputs": [],
   "source": [
    "def create_jg(con, unique_id = 0, sample=True):\n",
    "    # name needs to be different for different views\n",
    "    # learning  rate should be 1/# trees\n",
    "    jg = joinGraph(\"favorita\" + str(unique_id), con, log=False, max_leaves = 8,  learning_rate=0.01, target_variable =\"Y\")\n",
    "    jg.add_table(\"sales\", [], [], fact=True)\n",
    "    jg.add_table(\"holidays\", [\"htype\", \"locale\", \"locale_name\", \"transferred\",\"f2\"], [2,2,2,2,2])\n",
    "    jg.add_table(\"oil\", [\"dcoilwtico\",\"f3\"], [2,2])\n",
    "    jg.add_table(\"transactions\", [\"transactions\",\"f5\"], [2,2])\n",
    "    jg.add_table(\"stores\", [\"city\",\"state\",\"stype\",\"cluster\",\"f4\"], [2,2,2,2,2])\n",
    "    jg.add_table(\"items\", [\"family\",\"class\",\"perishable\",\"f1\"], [2,2,2,2])\n",
    "    if sample:\n",
    "        jg.create_sample_fact(sample_percent = 1, sample_seed = unique_id, view=True)\n",
    "\n",
    "    jg.join(jg.fact, \"items\", [\"item_nbr\"], [\"item_nbr\"])\n",
    "    jg.join(jg.fact, \"transactions\", [\"tid\"], [\"tid\"])\n",
    "    jg.join(\"transactions\", \"stores\", [\"store_nbr\"], [\"store_nbr\"])\n",
    "    jg.join(\"transactions\", \"holidays\", [\"date\"], [\"date\"])\n",
    "    jg.join(\"holidays\", \"oil\", [\"date\"], [\"date\"])\n",
    "    return jg"
   ]
  },
  {
   "cell_type": "code",
   "execution_count": null,
   "id": "52567184",
   "metadata": {},
   "outputs": [],
   "source": [
    "con = duckdb.connect(database='fav_2.duckdb',check_same_thread=False)\n",
    "con.execute(\"CREATE OR REPLACE TABLE holidays AS SELECT * FROM 'data/holidays.csv';\")\n",
    "con.execute(\"CREATE OR REPLACE TABLE oil AS SELECT * FROM 'data/oil.csv';\")\n",
    "con.execute(\"CREATE OR REPLACE TABLE transactions AS SELECT * FROM 'data/transactions.csv';\")\n",
    "con.execute(\"CREATE OR REPLACE TABLE stores AS SELECT * FROM 'data/stores.csv';\")\n",
    "con.execute(\"CREATE OR REPLACE TABLE items AS SELECT * FROM 'data/items.csv';\")\n",
    "con.execute(\"CREATE OR REPLACE TABLE sales AS SELECT * FROM 'data/train.csv';\")\n",
    "con.execute(\"CREATE OR REPLACE TABLE test AS SELECT * FROM 'data/test.csv';\")\n",
    "jg = create_jg(con, sample=False)\n",
    "jg.create_dummy_model(replace=False)\n",
    "con.close()"
   ]
  },
  {
   "cell_type": "code",
   "execution_count": null,
   "id": "9af99717",
   "metadata": {},
   "outputs": [],
   "source": [
    "cons = dict()\n",
    "tree_queries = []\n",
    "# specify the number of trees\n",
    "trees = list(range(100))\n",
    "\n",
    "def init(unique_id):\n",
    "    try:\n",
    "        cons[unique_id] = duckdb.connect(database='fav_2.duckdb',check_same_thread=False)\n",
    "    except Exception as e: print(e)\n",
    "\n",
    "def train_tree(worker_id):\n",
    "    con = cons[worker_id]\n",
    "    while True:\n",
    "        try:\n",
    "            con.execute(\"PRAGMA threads=4;\")\n",
    "            tree_id = trees.pop()\n",
    "            print(str(worker_id) + \" trains tree \" + str(tree_id))\n",
    "            build_tree(con, tree_id)\n",
    "        except Exception as e: \n",
    "            print(e)\n",
    "            return\n",
    "\n",
    "def build_tree(con, tree_id):\n",
    "    jg = create_jg(con, tree_id)\n",
    "    # get this from create_dummy_model\n",
    "    jg.set_ts_tc(0.0, 80318105)\n",
    "    jg.create_base_node()\n",
    "    jg.build_gradient_tree()\n",
    "    jg.clean_leaves()\n",
    "    jg.clean_table()\n",
    "    tree_queries.append(jg.tree_queries[0])\n",
    "    print(\"Tree \" + str(tree_id)  + \"finishes:\" + str(time.time() - initial_time))"
   ]
  },
  {
   "cell_type": "code",
   "execution_count": null,
   "id": "1d45a626",
   "metadata": {},
   "outputs": [],
   "source": [
    "def function_threading(func, num_threads):\n",
    "    threads = dict()\n",
    "    num_threads = num_threads\n",
    "    for i in range(num_threads):\n",
    "        threads[i] = threading.Thread(target=func, args=(i,))\n",
    "\n",
    "    for i in range(num_threads):\n",
    "        threads[i].start()\n",
    "\n",
    "    for i in range(num_threads):\n",
    "        threads[i].join()"
   ]
  },
  {
   "cell_type": "code",
   "execution_count": null,
   "id": "aa2bc3a4",
   "metadata": {},
   "outputs": [],
   "source": [
    "%%time\n",
    "function_threading(init, 16)"
   ]
  },
  {
   "cell_type": "code",
   "execution_count": null,
   "id": "42e642db",
   "metadata": {},
   "outputs": [],
   "source": [
    "%%time\n",
    "initial_time = time.time()\n",
    "# how many threads\n",
    "function_threading(train_tree, 16)"
   ]
  },
  {
   "cell_type": "code",
   "execution_count": null,
   "id": "d977b805",
   "metadata": {},
   "outputs": [],
   "source": []
  }
 ],
 "metadata": {
  "kernelspec": {
   "display_name": "Python 3 (ipykernel)",
   "language": "python",
   "name": "python3"
  },
  "language_info": {
   "codemirror_mode": {
    "name": "ipython",
    "version": 3
   },
   "file_extension": ".py",
   "mimetype": "text/x-python",
   "name": "python",
   "nbconvert_exporter": "python",
   "pygments_lexer": "ipython3",
   "version": "3.8.10"
  }
 },
 "nbformat": 4,
 "nbformat_minor": 5
}
