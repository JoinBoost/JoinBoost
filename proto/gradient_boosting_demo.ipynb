{
 "cells": [
  {
   "cell_type": "code",
   "execution_count": null,
   "id": "a41b4304",
   "metadata": {},
   "outputs": [],
   "source": [
    "from joinboost_dp import *"
   ]
  },
  {
   "cell_type": "code",
   "execution_count": null,
   "id": "1d2fec96",
   "metadata": {},
   "outputs": [],
   "source": [
    "sales = pd.read_csv(\"data/train.csv\")"
   ]
  },
  {
   "cell_type": "code",
   "execution_count": null,
   "id": "5bc9b261",
   "metadata": {},
   "outputs": [],
   "source": [
    "cons = dict()\n",
    "for i in range(2):\n",
    "    cons[i] = duckdb.connect(database=':memory:', check_same_thread=False)\n",
    "    print(\"reading tables into duckdb...\")\n",
    "    cons[i].execute(\"CREATE OR REPLACE TABLE holidays AS SELECT * FROM 'data/holidays.csv';\")\n",
    "    cons[i].execute(\"CREATE OR REPLACE TABLE oil AS SELECT * FROM 'data/oil.csv';\")\n",
    "    cons[i].execute(\"CREATE OR REPLACE TABLE transactions AS SELECT * FROM 'data/transactions.csv';\")\n",
    "    cons[i].execute(\"CREATE OR REPLACE TABLE stores AS SELECT * FROM 'data/stores.csv';\")\n",
    "    cons[i].execute(\"CREATE OR REPLACE TABLE items AS SELECT * FROM 'data/items.csv';\")\n",
    "#     cons[i].execute(\"CREATE OR REPLACE TABLE test AS SELECT * FROM 'data/test.csv';\")\n",
    "    print(\"done\")"
   ]
  },
  {
   "cell_type": "code",
   "execution_count": null,
   "id": "7b9fca6f",
   "metadata": {},
   "outputs": [],
   "source": [
    "jg = joinGraph(\"favorita\", cons, log=False, max_leaves = 8,  learning_rate=0.1, target_variable =\"Y\", fact_pandas=True, fact_pandas_join=True)\n",
    "jg.add_table(\"sales\", [], [], fact=True, fact_table=sales)\n",
    "jg.add_table(\"holidays\", [\"htype\", \"locale\", \"locale_name\", \"transferred\",\"f2\"], [2,2,2,2,2])\n",
    "jg.add_table(\"oil\", [\"dcoilwtico\",\"f3\"], [2,2])\n",
    "jg.add_table(\"transactions\", [\"transactions\",\"f5\"], [2,2])\n",
    "jg.add_table(\"stores\", [\"city\",\"state\",\"stype\",\"cluster\",\"f4\"], [2,2,2,2,2])\n",
    "jg.add_table(\"items\", [\"family\",\"class\",\"perishable\",\"f1\"], [2,2,2,2])\n",
    "jg.join(\"sales\", \"items\", [\"item_nbr\"], [\"item_nbr\"])\n",
    "jg.join(\"sales\", \"transactions\", [\"tid\"], [\"tid\"])\n",
    "jg.join(\"transactions\", \"stores\", [\"store_nbr\"], [\"store_nbr\"])\n",
    "jg.join(\"transactions\", \"holidays\", [\"date\"], [\"date\"])\n",
    "jg.join(\"holidays\", \"oil\", [\"date\"], [\"date\"])"
   ]
  },
  {
   "cell_type": "code",
   "execution_count": null,
   "id": "2abcf112",
   "metadata": {},
   "outputs": [],
   "source": [
    "jg.create_dummy_model(replace=True)\n",
    "for i in cons:\n",
    "    cons[i].register('sales', sales)\n",
    "total = 0\n",
    "for i in range(100):\n",
    "    jg.create_base_node()\n",
    "    jg.build_gradient_tree()\n",
    "    jg.update_error()\n",
    "    jg.clean_leaves()\n",
    "    jg.clean_table()\n",
    "    print(str(i) + \", \" + str(jg.totaltime))"
   ]
  },
  {
   "cell_type": "code",
   "execution_count": null,
   "id": "1e9d0c56",
   "metadata": {},
   "outputs": [],
   "source": []
  }
 ],
 "metadata": {
  "kernelspec": {
   "display_name": "Python 3 (ipykernel)",
   "language": "python",
   "name": "python3"
  },
  "language_info": {
   "codemirror_mode": {
    "name": "ipython",
    "version": 3
   },
   "file_extension": ".py",
   "mimetype": "text/x-python",
   "name": "python",
   "nbconvert_exporter": "python",
   "pygments_lexer": "ipython3",
   "version": "3.8.10"
  }
 },
 "nbformat": 4,
 "nbformat_minor": 5
}
